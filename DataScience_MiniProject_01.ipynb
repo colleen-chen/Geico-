{
 "cells": [
  {
   "cell_type": "markdown",
   "metadata": {},
   "source": [
    "   #                              Data Science Mini-Project\n",
    "   \n",
    "   \n",
    "# The assignment\n",
    "\n",
    "   GEICO provides a number of ways for its policyholders to make payments. While our service counselors can take payments over the phone, it is more cost-efficient for customers to make payments through our self-service channels such as online or through the automated phone system.  We would like to use a predictive model to select people to receive a pre-emptive e-mail message designed to encourage them to pay online.  \n",
    "   \n",
    "You have been tasked with identifying which customers are likely to make a service payment call in the next 5 days. The attached file contains data on customers who have had a bill due in the next 5 days and whether they made a service payment call. Construct a model that predicts the likelihood that each policyholder will make a service payment call (CALL_FLAG=1). You may use whatever methods you see fit. \n",
    "\n",
    "\n",
    "#                                  My Solution\n",
    "\n",
    "(1) setup utility functions\n",
    "\n",
    "(2) Load Dataset\n",
    "\n",
    "(3) Clean Data\n",
    "\n",
    "        3.1) remove NaN\n",
    "\n",
    "        3.2) replace NONE by 0 for CustomerSegment\n",
    "\n",
    "        3.3) identifying missing data, \n",
    "\n",
    "(4) Convert all to numerical \n",
    "\n",
    "(5) Handle Data imbalance\n",
    "\n",
    "         1) Oversample the minority class by adding them five times, which are the rows of Call_Flag = 1\n",
    "            Afterwards, shuffle rows.\n",
    "\n",
    "         2) Undersample the majority group , which are the rows of Call_Flag = 0\n",
    "\n",
    "(6) Feature Engineer\n",
    "\n",
    "    6.a) Generate correlation matrix of the dataset. Reduce the correlated columns by mainly removing *_6M.\n",
    "         \n",
    "\n",
    "(7) Model Building\n",
    "\n",
    "    Random Forest model is utilized. \n",
    "\n",
    "(8) Model Validation\n",
    "\n",
    "       Perform cross validation.\n",
    "\n",
    "       confusion_matrix =\n",
    "                    [[14967  4793]\n",
    "                     [ 4456 15474]]\n",
    "                     \n",
    "    accuracy = 0.7669690098261527\n",
    "    recall = 0.4916724154922637\n",
    "    typeI error = 0.23649282084176249\n",
    "    typeII error = 0.2294187303712094\n"
   ]
  },
  {
   "cell_type": "code",
   "execution_count": 1,
   "metadata": {},
   "outputs": [
    {
     "name": "stderr",
     "output_type": "stream",
     "text": [
      "Using TensorFlow backend.\n"
     ]
    }
   ],
   "source": [
    "import numpy as np\n",
    "import pandas as pd\n",
    "import scipy as sp\n",
    "import re\n",
    "import random\n",
    "\n",
    "import seaborn as sns\n",
    "from matplotlib import pyplot as plt\n",
    "%matplotlib inline\n",
    "\n",
    "from sklearn.datasets import make_classification\n",
    "from sklearn.utils import shuffle\n",
    "from imblearn.under_sampling import RandomUnderSampler\n",
    "\n",
    "from sklearn.feature_selection import VarianceThreshold\n",
    "\n",
    "from sklearn.model_selection import train_test_split\n",
    "from sklearn.model_selection import cross_val_score\n",
    "from sklearn.metrics import confusion_matrix\n",
    "from sklearn.metrics import classification_report\n",
    "\n",
    "from sklearn import ensemble"
   ]
  },
  {
   "cell_type": "markdown",
   "metadata": {},
   "source": [
    "# Setup Utility functions"
   ]
  },
  {
   "cell_type": "code",
   "execution_count": 2,
   "metadata": {},
   "outputs": [],
   "source": [
    "# filtering out substring\n",
    "def filter_str_onDataFrame(df, colname, reg):\n",
    "    result = []\n",
    "    for line in df[colname]:\n",
    "        x = re.findall(reg, line)\n",
    "        result.append(''.join(x))\n",
    "    df[colname] = result"
   ]
  },
  {
   "cell_type": "code",
   "execution_count": 3,
   "metadata": {},
   "outputs": [],
   "source": [
    "# add new DataFrame on specific index row\n",
    "def insert_row_intoDataFrame(idx, df, df_insert):\n",
    "    df_bef = df.iloc[:idx, ]\n",
    "    df_aft = df.iloc[idx:, ]\n",
    "\n",
    "    df = df_bef.append(df_insert).append(df_aft).reset_index(drop = True)\n",
    "\n",
    "    return df"
   ]
  },
  {
   "cell_type": "markdown",
   "metadata": {},
   "source": [
    "# Load Dataset"
   ]
  },
  {
   "cell_type": "code",
   "execution_count": 4,
   "metadata": {},
   "outputs": [
    {
     "data": {
      "text/html": [
       "<div>\n",
       "<style scoped>\n",
       "    .dataframe tbody tr th:only-of-type {\n",
       "        vertical-align: middle;\n",
       "    }\n",
       "\n",
       "    .dataframe tbody tr th {\n",
       "        vertical-align: top;\n",
       "    }\n",
       "\n",
       "    .dataframe thead th {\n",
       "        text-align: right;\n",
       "    }\n",
       "</style>\n",
       "<table border=\"1\" class=\"dataframe\">\n",
       "  <thead>\n",
       "    <tr style=\"text-align: right;\">\n",
       "      <th></th>\n",
       "      <th>DATE_FOR</th>\n",
       "      <th>RTD_ST_CD</th>\n",
       "      <th>CustomerSegment</th>\n",
       "      <th>Tenure</th>\n",
       "      <th>Age</th>\n",
       "      <th>MART_STATUS</th>\n",
       "      <th>GENDER</th>\n",
       "      <th>CHANNEL1_6M</th>\n",
       "      <th>CHANNEL2_6M</th>\n",
       "      <th>CHANNEL3_6M</th>\n",
       "      <th>...</th>\n",
       "      <th>CHANNEL5_3M</th>\n",
       "      <th>METHOD1_3M</th>\n",
       "      <th>PAYMENTS_3M</th>\n",
       "      <th>NOT_DI_3M</th>\n",
       "      <th>NOT_DI_6M</th>\n",
       "      <th>EVENT1_30_FLAG</th>\n",
       "      <th>EVENT2_90_SUM</th>\n",
       "      <th>LOGINS</th>\n",
       "      <th>POLICYPURCHASECHANNEL</th>\n",
       "      <th>Call_Flag</th>\n",
       "    </tr>\n",
       "  </thead>\n",
       "  <tbody>\n",
       "    <tr>\n",
       "      <th>0</th>\n",
       "      <td>5/19/2014</td>\n",
       "      <td>ST_S0</td>\n",
       "      <td>1</td>\n",
       "      <td>16.175222</td>\n",
       "      <td>78.403833</td>\n",
       "      <td>MS_S0</td>\n",
       "      <td>F</td>\n",
       "      <td>0.0</td>\n",
       "      <td>0.0</td>\n",
       "      <td>1.0</td>\n",
       "      <td>...</td>\n",
       "      <td>2</td>\n",
       "      <td>0</td>\n",
       "      <td>3</td>\n",
       "      <td>0</td>\n",
       "      <td>0</td>\n",
       "      <td>0</td>\n",
       "      <td>0</td>\n",
       "      <td>0</td>\n",
       "      <td>0</td>\n",
       "      <td>0</td>\n",
       "    </tr>\n",
       "    <tr>\n",
       "      <th>1</th>\n",
       "      <td>5/17/2014</td>\n",
       "      <td>ST_S0</td>\n",
       "      <td>1</td>\n",
       "      <td>15.931554</td>\n",
       "      <td>70.989733</td>\n",
       "      <td>MS_S1</td>\n",
       "      <td>F</td>\n",
       "      <td>0.0</td>\n",
       "      <td>6.0</td>\n",
       "      <td>0.0</td>\n",
       "      <td>...</td>\n",
       "      <td>0</td>\n",
       "      <td>3</td>\n",
       "      <td>3</td>\n",
       "      <td>0</td>\n",
       "      <td>0</td>\n",
       "      <td>0</td>\n",
       "      <td>0</td>\n",
       "      <td>0</td>\n",
       "      <td>0</td>\n",
       "      <td>0</td>\n",
       "    </tr>\n",
       "    <tr>\n",
       "      <th>2</th>\n",
       "      <td>5/15/2014</td>\n",
       "      <td>ST_S0</td>\n",
       "      <td>1</td>\n",
       "      <td>15.937029</td>\n",
       "      <td>87.578371</td>\n",
       "      <td>MS_S2</td>\n",
       "      <td>M</td>\n",
       "      <td>0.0</td>\n",
       "      <td>0.0</td>\n",
       "      <td>10.0</td>\n",
       "      <td>...</td>\n",
       "      <td>0</td>\n",
       "      <td>0</td>\n",
       "      <td>6</td>\n",
       "      <td>0</td>\n",
       "      <td>0</td>\n",
       "      <td>0</td>\n",
       "      <td>0</td>\n",
       "      <td>0</td>\n",
       "      <td>0</td>\n",
       "      <td>0</td>\n",
       "    </tr>\n",
       "  </tbody>\n",
       "</table>\n",
       "<p>3 rows × 29 columns</p>\n",
       "</div>"
      ],
      "text/plain": [
       "    DATE_FOR RTD_ST_CD CustomerSegment     Tenure        Age MART_STATUS  \\\n",
       "0  5/19/2014     ST_S0               1  16.175222  78.403833       MS_S0   \n",
       "1  5/17/2014     ST_S0               1  15.931554  70.989733       MS_S1   \n",
       "2  5/15/2014     ST_S0               1  15.937029  87.578371       MS_S2   \n",
       "\n",
       "  GENDER  CHANNEL1_6M  CHANNEL2_6M  CHANNEL3_6M    ...      CHANNEL5_3M  \\\n",
       "0      F          0.0          0.0          1.0    ...                2   \n",
       "1      F          0.0          6.0          0.0    ...                0   \n",
       "2      M          0.0          0.0         10.0    ...                0   \n",
       "\n",
       "   METHOD1_3M  PAYMENTS_3M  NOT_DI_3M  NOT_DI_6M  EVENT1_30_FLAG  \\\n",
       "0           0            3          0          0               0   \n",
       "1           3            3          0          0               0   \n",
       "2           0            6          0          0               0   \n",
       "\n",
       "   EVENT2_90_SUM  LOGINS  POLICYPURCHASECHANNEL  Call_Flag  \n",
       "0              0       0                      0          0  \n",
       "1              0       0                      0          0  \n",
       "2              0       0                      0          0  \n",
       "\n",
       "[3 rows x 29 columns]"
      ]
     },
     "execution_count": 4,
     "metadata": {},
     "output_type": "execute_result"
    }
   ],
   "source": [
    "df_raw = pd.read_csv('DS_MiniProject_ANON.csv')\n",
    "df_raw.head(3)"
   ]
  },
  {
   "cell_type": "markdown",
   "metadata": {},
   "source": [
    "# Clean Dataset\n",
    "\n",
    "1) remove NaN\n",
    "\n",
    "2) replace NONE by 0 for CustomerSegment\n",
    "\n",
    "3) identifying missing data, "
   ]
  },
  {
   "cell_type": "code",
   "execution_count": 5,
   "metadata": {},
   "outputs": [],
   "source": [
    "# drop n/a\n",
    "df_raw.dropna(inplace=True)\n",
    "df_raw.reset_index(drop=True, inplace=True)"
   ]
  },
  {
   "cell_type": "code",
   "execution_count": 6,
   "metadata": {},
   "outputs": [
    {
     "name": "stdout",
     "output_type": "stream",
     "text": [
      "                 DATE_FOR  RTD_ST_CD  Tenure    Age  MART_STATUS  GENDER  \\\n",
      "CustomerSegment                                                            \n",
      "1                   95349      95349   95349  95349        95349   95349   \n",
      "2                   25226      25226   25226  25226        25226   25226   \n",
      "3                    5019       5019    5019   5019         5019    5019   \n",
      "NONE                 3683       3683    3683   3683         3683    3683   \n",
      "\n",
      "                 CHANNEL1_6M  CHANNEL2_6M  CHANNEL3_6M  CHANNEL4_6M  \\\n",
      "CustomerSegment                                                       \n",
      "1                      95349        95349        95349        95349   \n",
      "2                      25226        25226        25226        25226   \n",
      "3                       5019         5019         5019         5019   \n",
      "NONE                    3683         3683         3683         3683   \n",
      "\n",
      "                   ...      CHANNEL5_3M  METHOD1_3M  PAYMENTS_3M  NOT_DI_3M  \\\n",
      "CustomerSegment    ...                                                        \n",
      "1                  ...            95349       95349        95349      95349   \n",
      "2                  ...            25226       25226        25226      25226   \n",
      "3                  ...             5019        5019         5019       5019   \n",
      "NONE               ...             3683        3683         3683       3683   \n",
      "\n",
      "                 NOT_DI_6M  EVENT1_30_FLAG  EVENT2_90_SUM  LOGINS  \\\n",
      "CustomerSegment                                                     \n",
      "1                    95349           95349          95349   95349   \n",
      "2                    25226           25226          25226   25226   \n",
      "3                     5019            5019           5019    5019   \n",
      "NONE                  3683            3683           3683    3683   \n",
      "\n",
      "                 POLICYPURCHASECHANNEL  Call_Flag  \n",
      "CustomerSegment                                    \n",
      "1                                95349      95349  \n",
      "2                                25226      25226  \n",
      "3                                 5019       5019  \n",
      "NONE                              3683       3683  \n",
      "\n",
      "[4 rows x 28 columns]\n"
     ]
    }
   ],
   "source": [
    "# quick scanning data, finding any NaN or NONE\n",
    "#print(df_raw.groupby(['DATE_FOR']).count())\n",
    "#print(df_raw.groupby(['RTD_ST_CD']).count())\n",
    "print(df_raw.groupby(['CustomerSegment']).count())\n",
    "#print(df_raw.groupby(['Tenure']).count())\n",
    "#print(df_raw.groupby(['Age']).count())\n",
    "#print(df_raw.groupby(['MART_STATUS']).count())\n",
    "#print(df_raw.groupby(['GENDER']).count())\n",
    "#print(df_raw.groupby(['CHANNEL1_6M']).count())\n",
    "#print(df_raw.groupby(['CHANNEL2_6M']).count())\n",
    "#print(df_raw.groupby(['CHANNEL3_6M']).count())\n",
    "#print(df_raw.groupby(['CHANNEL4_6M']).count())\n",
    "#print(df_raw.groupby(['CHANNEL5_6M']).count())\n",
    "#print(df_raw.groupby(['METHOD1_6M']).count())\n",
    "#print(df_raw.groupby(['RECENT_PAYMENT']).count())\n",
    "#print(df_raw.groupby(['PAYMENTS_6M']).count())\n",
    "#print(df_raw.groupby(['CHANNEL1_3M']).count())\n",
    "#print(df_raw.groupby(['CHANNEL2_3M']).count())\n",
    "#print(df_raw.groupby(['CHANNEL3_3M']).count())\n",
    "#print(df_raw.groupby(['CHANNEL4_3M']).count())\n",
    "#print(df_raw.groupby(['CHANNEL5_3M']).count())\n",
    "#print(df_raw.groupby(['METHOD1_3M']).count())\n",
    "#print(df_raw.groupby(['PAYMENTS_3M']).count())\n",
    "#print(df_raw.groupby(['NOT_DI_3M']).count())\n",
    "#print(df_raw.groupby(['NOT_DI_6M']).count())\n",
    "#print(df_raw.groupby(['EVENT1_30_FLAG']).count())\n",
    "#print(df_raw.groupby(['EVENT2_90_SUM']).count())\n",
    "#print(df_raw.groupby(['LOGINS']).count())\n",
    "#print(df_raw.groupby(['POLICYPURCHASECHANNEL']).count())\n",
    "#print(df_raw.groupby(['Call_Flag']).count())"
   ]
  },
  {
   "cell_type": "code",
   "execution_count": 7,
   "metadata": {},
   "outputs": [],
   "source": [
    "# replacing NONE by 0\n",
    "df_raw['CustomerSegment'] = [0 if x == 'NONE' else x for x in df_raw['CustomerSegment']]"
   ]
  },
  {
   "cell_type": "code",
   "execution_count": 8,
   "metadata": {},
   "outputs": [
    {
     "name": "stdout",
     "output_type": "stream",
     "text": [
      "DATE_FOR                 0\n",
      "RTD_ST_CD                0\n",
      "CustomerSegment          0\n",
      "Tenure                   0\n",
      "Age                      0\n",
      "MART_STATUS              0\n",
      "GENDER                   0\n",
      "CHANNEL1_6M              0\n",
      "CHANNEL2_6M              0\n",
      "CHANNEL3_6M              0\n",
      "CHANNEL4_6M              0\n",
      "CHANNEL5_6M              0\n",
      "METHOD1_6M               0\n",
      "RECENT_PAYMENT           0\n",
      "PAYMENTS_6M              0\n",
      "CHANNEL1_3M              0\n",
      "CHANNEL2_3M              0\n",
      "CHANNEL3_3M              0\n",
      "CHANNEL4_3M              0\n",
      "CHANNEL5_3M              0\n",
      "METHOD1_3M               0\n",
      "PAYMENTS_3M              0\n",
      "NOT_DI_3M                0\n",
      "NOT_DI_6M                0\n",
      "EVENT1_30_FLAG           0\n",
      "EVENT2_90_SUM            0\n",
      "LOGINS                   0\n",
      "POLICYPURCHASECHANNEL    0\n",
      "Call_Flag                0\n",
      "dtype: int64\n"
     ]
    }
   ],
   "source": [
    "# fill missing data\n",
    "# Here it demonstrates there are no missing values\n",
    "df_raw.isnull().any()\n",
    "print(df_raw.isnull().sum())"
   ]
  },
  {
   "cell_type": "markdown",
   "metadata": {},
   "source": [
    "# Convert all values to numerical"
   ]
  },
  {
   "cell_type": "code",
   "execution_count": 9,
   "metadata": {},
   "outputs": [],
   "source": [
    "# convert all values to numerical\n",
    "# DATE_FOR convert to mmddyyyy\n",
    "token = [x.rstrip().split('/') for x in df_raw['DATE_FOR']]\n",
    "df_raw['DATE_FOR'] = [x[0] + x[1] + x[2] for x in token]\n",
    "\n",
    "# RTD_ST_CD stripped off the first four characters\n",
    "filter_str_onDataFrame(df_raw, 'RTD_ST_CD', '\\d')\n",
    "\n",
    "# MART_STATUS stripped off the first four characters\n",
    "filter_str_onDataFrame(df_raw, 'MART_STATUS', '\\d')\n",
    "\n",
    "# GENDER convert to 0 for M, 1 for F\n",
    "df_raw['GENDER'] = [0 if line == 'M' else 1 for line in df_raw['GENDER'] ]"
   ]
  },
  {
   "cell_type": "code",
   "execution_count": 10,
   "metadata": {},
   "outputs": [
    {
     "data": {
      "text/html": [
       "<div>\n",
       "<style scoped>\n",
       "    .dataframe tbody tr th:only-of-type {\n",
       "        vertical-align: middle;\n",
       "    }\n",
       "\n",
       "    .dataframe tbody tr th {\n",
       "        vertical-align: top;\n",
       "    }\n",
       "\n",
       "    .dataframe thead th {\n",
       "        text-align: right;\n",
       "    }\n",
       "</style>\n",
       "<table border=\"1\" class=\"dataframe\">\n",
       "  <thead>\n",
       "    <tr style=\"text-align: right;\">\n",
       "      <th></th>\n",
       "      <th>DATE_FOR</th>\n",
       "      <th>RTD_ST_CD</th>\n",
       "      <th>CustomerSegment</th>\n",
       "      <th>Tenure</th>\n",
       "      <th>Age</th>\n",
       "      <th>MART_STATUS</th>\n",
       "      <th>GENDER</th>\n",
       "      <th>CHANNEL1_6M</th>\n",
       "      <th>CHANNEL2_6M</th>\n",
       "      <th>CHANNEL3_6M</th>\n",
       "      <th>...</th>\n",
       "      <th>CHANNEL5_3M</th>\n",
       "      <th>METHOD1_3M</th>\n",
       "      <th>PAYMENTS_3M</th>\n",
       "      <th>NOT_DI_3M</th>\n",
       "      <th>NOT_DI_6M</th>\n",
       "      <th>EVENT1_30_FLAG</th>\n",
       "      <th>EVENT2_90_SUM</th>\n",
       "      <th>LOGINS</th>\n",
       "      <th>POLICYPURCHASECHANNEL</th>\n",
       "      <th>Call_Flag</th>\n",
       "    </tr>\n",
       "  </thead>\n",
       "  <tbody>\n",
       "    <tr>\n",
       "      <th>0</th>\n",
       "      <td>5192014</td>\n",
       "      <td>0</td>\n",
       "      <td>1</td>\n",
       "      <td>16.175222</td>\n",
       "      <td>78.403833</td>\n",
       "      <td>0</td>\n",
       "      <td>1</td>\n",
       "      <td>0.0</td>\n",
       "      <td>0.0</td>\n",
       "      <td>1.0</td>\n",
       "      <td>...</td>\n",
       "      <td>2</td>\n",
       "      <td>0</td>\n",
       "      <td>3</td>\n",
       "      <td>0</td>\n",
       "      <td>0</td>\n",
       "      <td>0</td>\n",
       "      <td>0</td>\n",
       "      <td>0</td>\n",
       "      <td>0</td>\n",
       "      <td>0</td>\n",
       "    </tr>\n",
       "    <tr>\n",
       "      <th>1</th>\n",
       "      <td>5172014</td>\n",
       "      <td>0</td>\n",
       "      <td>1</td>\n",
       "      <td>15.931554</td>\n",
       "      <td>70.989733</td>\n",
       "      <td>1</td>\n",
       "      <td>1</td>\n",
       "      <td>0.0</td>\n",
       "      <td>6.0</td>\n",
       "      <td>0.0</td>\n",
       "      <td>...</td>\n",
       "      <td>0</td>\n",
       "      <td>3</td>\n",
       "      <td>3</td>\n",
       "      <td>0</td>\n",
       "      <td>0</td>\n",
       "      <td>0</td>\n",
       "      <td>0</td>\n",
       "      <td>0</td>\n",
       "      <td>0</td>\n",
       "      <td>0</td>\n",
       "    </tr>\n",
       "  </tbody>\n",
       "</table>\n",
       "<p>2 rows × 29 columns</p>\n",
       "</div>"
      ],
      "text/plain": [
       "  DATE_FOR RTD_ST_CD CustomerSegment     Tenure        Age MART_STATUS  \\\n",
       "0  5192014         0               1  16.175222  78.403833           0   \n",
       "1  5172014         0               1  15.931554  70.989733           1   \n",
       "\n",
       "   GENDER  CHANNEL1_6M  CHANNEL2_6M  CHANNEL3_6M    ...      CHANNEL5_3M  \\\n",
       "0       1          0.0          0.0          1.0    ...                2   \n",
       "1       1          0.0          6.0          0.0    ...                0   \n",
       "\n",
       "   METHOD1_3M  PAYMENTS_3M  NOT_DI_3M  NOT_DI_6M  EVENT1_30_FLAG  \\\n",
       "0           0            3          0          0               0   \n",
       "1           3            3          0          0               0   \n",
       "\n",
       "   EVENT2_90_SUM  LOGINS  POLICYPURCHASECHANNEL  Call_Flag  \n",
       "0              0       0                      0          0  \n",
       "1              0       0                      0          0  \n",
       "\n",
       "[2 rows x 29 columns]"
      ]
     },
     "execution_count": 10,
     "metadata": {},
     "output_type": "execute_result"
    }
   ],
   "source": [
    "df_raw.head(2)"
   ]
  },
  {
   "cell_type": "code",
   "execution_count": 11,
   "metadata": {},
   "outputs": [
    {
     "name": "stdout",
     "output_type": "stream",
     "text": [
      "The shape of whole dataset\n",
      "(129277, 29)\n",
      "The shape of sub dataset with Call_Flag=1\n",
      "(4725, 29)\n"
     ]
    }
   ],
   "source": [
    "df_flag1 = df_raw[df_raw.Call_Flag>0]\n",
    "print('The shape of whole dataset')\n",
    "print(df_raw.shape)\n",
    "print('The shape of sub dataset with Call_Flag=1')\n",
    "print(df_flag1.shape)"
   ]
  },
  {
   "cell_type": "markdown",
   "metadata": {},
   "source": [
    "#  The dataset is overly imbalanced\n",
    "\n",
    "   To make dataset balanced, \n",
    "   \n",
    "       1) I will oversample the minority class, which are the rows of Call_Flag = 1\n",
    "   \n",
    "       2) I will undersample the majority group, which are the rows of Call_Flag = 0\n",
    "   "
   ]
  },
  {
   "cell_type": "code",
   "execution_count": 12,
   "metadata": {},
   "outputs": [
    {
     "name": "stdout",
     "output_type": "stream",
     "text": [
      "Done oversampling\n",
      "The shape of whole dataset after oversampling\n",
      "(152902, 29)\n"
     ]
    }
   ],
   "source": [
    "# oversampling\n",
    "num_sample = 5\n",
    "for i in range(num_sample):                   \n",
    "    ran = np.random.uniform(0,1)\n",
    "    idx = int(ran*(df_raw.shape[0]))\n",
    "    df_raw = insert_row_intoDataFrame(idx, df_raw, df_flag1)\n",
    "    \n",
    "df_raw = shuffle(df_raw)   \n",
    "df_raw = shuffle(df_raw)\n",
    "print('Done oversampling')\n",
    "print('The shape of whole dataset after oversampling')\n",
    "print(df_raw.shape)"
   ]
  },
  {
   "cell_type": "code",
   "execution_count": 21,
   "metadata": {},
   "outputs": [
    {
     "name": "stdout",
     "output_type": "stream",
     "text": [
      "Before resample\n",
      "Dataset rows = 152902\n",
      "After resample\n",
      "Dataset rows = 56700\n"
     ]
    }
   ],
   "source": [
    "# undersampling\n",
    "X_raw = df_raw.drop(['Call_Flag'], axis=1)\n",
    "y_raw = df_raw['Call_Flag']\n",
    "print('Before resample')\n",
    "print('Dataset rows = {}'.format(X_raw.shape[0]))\n",
    "rus = RandomUnderSampler(random_state=42)\n",
    "X_arr, y_arr = rus.fit_resample(X_raw, y_raw)\n",
    "print('After resample')\n",
    "print('Dataset rows = {}'.format(X_arr.shape[0]))"
   ]
  },
  {
   "cell_type": "code",
   "execution_count": 22,
   "metadata": {},
   "outputs": [
    {
     "name": "stdout",
     "output_type": "stream",
     "text": [
      "number of rows in flag 0 sample = 28350\n",
      "number of rows in flag 1 sample = 28350\n",
      "Now the dataset is balanced with 1:1 classes ratio\n"
     ]
    }
   ],
   "source": [
    "X = pd.DataFrame(X_arr, columns=X_raw.columns)\n",
    "y = pd.DataFrame(y_arr, columns=['Call_Flag'])\n",
    "print('number of rows in flag 0 sample = {}'.format(y[y.Call_Flag<1].shape[0]))\n",
    "print('number of rows in flag 1 sample = {}'.format(y[y.Call_Flag>0].shape[0]))\n",
    "print('Now the dataset is balanced with 1:1 classes ratio')"
   ]
  },
  {
   "cell_type": "markdown",
   "metadata": {},
   "source": [
    "# Feature Engineering"
   ]
  },
  {
   "cell_type": "code",
   "execution_count": 23,
   "metadata": {},
   "outputs": [],
   "source": [
    "# check correlation of df_raw\n",
    "df_corr = df_raw.corr()\n"
   ]
  },
  {
   "cell_type": "code",
   "execution_count": 24,
   "metadata": {},
   "outputs": [
    {
     "name": "stdout",
     "output_type": "stream",
     "text": [
      "                       Tenure  Age  GENDER  CHANNEL1_6M  CHANNEL2_6M  \\\n",
      "Tenure                    1.0  NaN     NaN          NaN          NaN   \n",
      "Age                       NaN  1.0     NaN          NaN          NaN   \n",
      "GENDER                    NaN  NaN     1.0          NaN          NaN   \n",
      "CHANNEL1_6M               NaN  NaN     NaN     1.000000          NaN   \n",
      "CHANNEL2_6M               NaN  NaN     NaN          NaN     1.000000   \n",
      "CHANNEL3_6M               NaN  NaN     NaN          NaN          NaN   \n",
      "CHANNEL4_6M               NaN  NaN     NaN          NaN          NaN   \n",
      "CHANNEL5_6M               NaN  NaN     NaN          NaN          NaN   \n",
      "METHOD1_6M                NaN  NaN     NaN          NaN          NaN   \n",
      "RECENT_PAYMENT            NaN  NaN     NaN          NaN          NaN   \n",
      "PAYMENTS_6M               NaN  NaN     NaN          NaN          NaN   \n",
      "CHANNEL1_3M               NaN  NaN     NaN     0.909384          NaN   \n",
      "CHANNEL2_3M               NaN  NaN     NaN          NaN     0.944045   \n",
      "CHANNEL3_3M               NaN  NaN     NaN          NaN          NaN   \n",
      "CHANNEL4_3M               NaN  NaN     NaN          NaN          NaN   \n",
      "CHANNEL5_3M               NaN  NaN     NaN          NaN          NaN   \n",
      "METHOD1_3M                NaN  NaN     NaN          NaN          NaN   \n",
      "PAYMENTS_3M               NaN  NaN     NaN          NaN          NaN   \n",
      "NOT_DI_3M                 NaN  NaN     NaN          NaN          NaN   \n",
      "NOT_DI_6M                 NaN  NaN     NaN          NaN          NaN   \n",
      "EVENT1_30_FLAG            NaN  NaN     NaN          NaN          NaN   \n",
      "EVENT2_90_SUM             NaN  NaN     NaN          NaN          NaN   \n",
      "LOGINS                    NaN  NaN     NaN          NaN          NaN   \n",
      "POLICYPURCHASECHANNEL     NaN  NaN     NaN          NaN          NaN   \n",
      "Call_Flag                 NaN  NaN     NaN          NaN          NaN   \n",
      "\n",
      "                       CHANNEL3_6M  CHANNEL4_6M  CHANNEL5_6M  METHOD1_6M  \\\n",
      "Tenure                         NaN          NaN          NaN         NaN   \n",
      "Age                            NaN          NaN          NaN         NaN   \n",
      "GENDER                         NaN          NaN          NaN         NaN   \n",
      "CHANNEL1_6M                    NaN          NaN          NaN         NaN   \n",
      "CHANNEL2_6M                    NaN          NaN          NaN         NaN   \n",
      "CHANNEL3_6M                1.00000          NaN          NaN         NaN   \n",
      "CHANNEL4_6M                    NaN     1.000000          NaN         NaN   \n",
      "CHANNEL5_6M                    NaN          NaN      1.00000         NaN   \n",
      "METHOD1_6M                     NaN          NaN          NaN    1.000000   \n",
      "RECENT_PAYMENT                 NaN          NaN          NaN         NaN   \n",
      "PAYMENTS_6M                    NaN          NaN          NaN         NaN   \n",
      "CHANNEL1_3M                    NaN          NaN          NaN         NaN   \n",
      "CHANNEL2_3M                    NaN          NaN          NaN         NaN   \n",
      "CHANNEL3_3M                0.96232          NaN          NaN         NaN   \n",
      "CHANNEL4_3M                    NaN     0.900279          NaN         NaN   \n",
      "CHANNEL5_3M                    NaN          NaN      0.96553         NaN   \n",
      "METHOD1_3M                     NaN          NaN          NaN    0.939931   \n",
      "PAYMENTS_3M                    NaN          NaN          NaN         NaN   \n",
      "NOT_DI_3M                      NaN          NaN          NaN         NaN   \n",
      "NOT_DI_6M                      NaN          NaN          NaN         NaN   \n",
      "EVENT1_30_FLAG                 NaN          NaN          NaN         NaN   \n",
      "EVENT2_90_SUM                  NaN          NaN          NaN         NaN   \n",
      "LOGINS                         NaN          NaN          NaN         NaN   \n",
      "POLICYPURCHASECHANNEL          NaN          NaN          NaN         NaN   \n",
      "Call_Flag                      NaN          NaN          NaN         NaN   \n",
      "\n",
      "                       RECENT_PAYMENT    ...      CHANNEL5_3M  METHOD1_3M  \\\n",
      "Tenure                            NaN    ...              NaN         NaN   \n",
      "Age                               NaN    ...              NaN         NaN   \n",
      "GENDER                            NaN    ...              NaN         NaN   \n",
      "CHANNEL1_6M                       NaN    ...              NaN         NaN   \n",
      "CHANNEL2_6M                       NaN    ...              NaN         NaN   \n",
      "CHANNEL3_6M                       NaN    ...              NaN         NaN   \n",
      "CHANNEL4_6M                       NaN    ...              NaN         NaN   \n",
      "CHANNEL5_6M                       NaN    ...          0.96553         NaN   \n",
      "METHOD1_6M                        NaN    ...              NaN    0.939931   \n",
      "RECENT_PAYMENT                    1.0    ...              NaN         NaN   \n",
      "PAYMENTS_6M                       NaN    ...              NaN         NaN   \n",
      "CHANNEL1_3M                       NaN    ...              NaN         NaN   \n",
      "CHANNEL2_3M                       NaN    ...              NaN         NaN   \n",
      "CHANNEL3_3M                       NaN    ...              NaN         NaN   \n",
      "CHANNEL4_3M                       NaN    ...              NaN         NaN   \n",
      "CHANNEL5_3M                       NaN    ...          1.00000         NaN   \n",
      "METHOD1_3M                        NaN    ...              NaN    1.000000   \n",
      "PAYMENTS_3M                       NaN    ...              NaN         NaN   \n",
      "NOT_DI_3M                         NaN    ...              NaN         NaN   \n",
      "NOT_DI_6M                         NaN    ...              NaN         NaN   \n",
      "EVENT1_30_FLAG                    NaN    ...              NaN         NaN   \n",
      "EVENT2_90_SUM                     NaN    ...              NaN         NaN   \n",
      "LOGINS                            NaN    ...              NaN         NaN   \n",
      "POLICYPURCHASECHANNEL             NaN    ...              NaN         NaN   \n",
      "Call_Flag                         NaN    ...              NaN         NaN   \n",
      "\n",
      "                       PAYMENTS_3M  NOT_DI_3M  NOT_DI_6M  EVENT1_30_FLAG  \\\n",
      "Tenure                         NaN        NaN        NaN             NaN   \n",
      "Age                            NaN        NaN        NaN             NaN   \n",
      "GENDER                         NaN        NaN        NaN             NaN   \n",
      "CHANNEL1_6M                    NaN        NaN        NaN             NaN   \n",
      "CHANNEL2_6M                    NaN        NaN        NaN             NaN   \n",
      "CHANNEL3_6M                    NaN        NaN        NaN             NaN   \n",
      "CHANNEL4_6M                    NaN        NaN        NaN             NaN   \n",
      "CHANNEL5_6M                    NaN        NaN        NaN             NaN   \n",
      "METHOD1_6M                     NaN        NaN        NaN             NaN   \n",
      "RECENT_PAYMENT                 NaN        NaN        NaN             NaN   \n",
      "PAYMENTS_6M               0.869977        NaN        NaN             NaN   \n",
      "CHANNEL1_3M                    NaN        NaN        NaN             NaN   \n",
      "CHANNEL2_3M                    NaN        NaN        NaN             NaN   \n",
      "CHANNEL3_3M                    NaN        NaN        NaN             NaN   \n",
      "CHANNEL4_3M                    NaN        NaN        NaN             NaN   \n",
      "CHANNEL5_3M                    NaN        NaN        NaN             NaN   \n",
      "METHOD1_3M                     NaN        NaN        NaN             NaN   \n",
      "PAYMENTS_3M               1.000000        NaN        NaN             NaN   \n",
      "NOT_DI_3M                      NaN        1.0        NaN             NaN   \n",
      "NOT_DI_6M                      NaN        NaN        1.0             NaN   \n",
      "EVENT1_30_FLAG                 NaN        NaN        NaN             NaN   \n",
      "EVENT2_90_SUM                  NaN        NaN        NaN             NaN   \n",
      "LOGINS                         NaN        NaN        NaN             NaN   \n",
      "POLICYPURCHASECHANNEL          NaN        NaN        NaN             NaN   \n",
      "Call_Flag                      NaN        NaN        NaN             NaN   \n",
      "\n",
      "                       EVENT2_90_SUM  LOGINS  POLICYPURCHASECHANNEL  Call_Flag  \n",
      "Tenure                           NaN     NaN                    NaN        NaN  \n",
      "Age                              NaN     NaN                    NaN        NaN  \n",
      "GENDER                           NaN     NaN                    NaN        NaN  \n",
      "CHANNEL1_6M                      NaN     NaN                    NaN        NaN  \n",
      "CHANNEL2_6M                      NaN     NaN                    NaN        NaN  \n",
      "CHANNEL3_6M                      NaN     NaN                    NaN        NaN  \n",
      "CHANNEL4_6M                      NaN     NaN                    NaN        NaN  \n",
      "CHANNEL5_6M                      NaN     NaN                    NaN        NaN  \n",
      "METHOD1_6M                       NaN     NaN                    NaN        NaN  \n",
      "RECENT_PAYMENT                   NaN     NaN                    NaN        NaN  \n",
      "PAYMENTS_6M                      NaN     NaN                    NaN        NaN  \n",
      "CHANNEL1_3M                      NaN     NaN                    NaN        NaN  \n",
      "CHANNEL2_3M                      NaN     NaN                    NaN        NaN  \n",
      "CHANNEL3_3M                      NaN     NaN                    NaN        NaN  \n",
      "CHANNEL4_3M                      NaN     NaN                    NaN        NaN  \n",
      "CHANNEL5_3M                      NaN     NaN                    NaN        NaN  \n",
      "METHOD1_3M                       NaN     NaN                    NaN        NaN  \n",
      "PAYMENTS_3M                      NaN     NaN                    NaN        NaN  \n",
      "NOT_DI_3M                        NaN     NaN                    NaN        NaN  \n",
      "NOT_DI_6M                        NaN     NaN                    NaN        NaN  \n",
      "EVENT1_30_FLAG                   NaN     NaN                    NaN        NaN  \n",
      "EVENT2_90_SUM                    1.0     NaN                    NaN        NaN  \n",
      "LOGINS                           NaN     1.0                    NaN        NaN  \n",
      "POLICYPURCHASECHANNEL            NaN     NaN                    1.0        NaN  \n",
      "Call_Flag                        NaN     NaN                    NaN        1.0  \n",
      "\n",
      "[25 rows x 25 columns]\n"
     ]
    }
   ],
   "source": [
    "# filtering out elements which are greater than 0.85\n",
    "print(df_corr[df_corr.iloc[:,:]>0.85])"
   ]
  },
  {
   "cell_type": "markdown",
   "metadata": {},
   "source": [
    "# From the correlation matrix, several columns are strongly correlated.\n",
    "\n",
    "  below are strongly correlated features:\n",
    "  \n",
    "    CHANNEL1_3M vs.\tCHANNEL1_6M  \n",
    "    CHANNEL2_3M vs.\tCHANNEL2_6M \n",
    "    CHANNEL3_3M vs.\tCHANNEL3_6M  \n",
    "    CHANNEL4_3M vs.\tCHANNEL4_6M \n",
    "    CHANNEL5_3M vs.\tCHANNEL5_6M  \n",
    "    METHOD1_3M  vs. METHOD1_6M\n",
    "    PAYMENTS_3M vs. PAYMENTS_6M\n",
    "\n",
    "To keep principal features and keep analysis simple, I will drop the features with 6M. because more recent features 3M are more relevant to cunsumers' behaviors"
   ]
  },
  {
   "cell_type": "code",
   "execution_count": 25,
   "metadata": {},
   "outputs": [],
   "source": [
    "X.drop(['CHANNEL1_6M'], axis=1, inplace=True)\n",
    "X.drop(['CHANNEL2_6M'], axis=1, inplace=True)\n",
    "X.drop(['CHANNEL3_6M'], axis=1, inplace=True)\n",
    "X.drop(['CHANNEL4_6M'], axis=1, inplace=True)\n",
    "X.drop(['CHANNEL5_6M'], axis=1, inplace=True)\n",
    "X.drop(['METHOD1_6M'], axis=1, inplace=True)\n",
    "X.drop(['PAYMENTS_6M'], axis=1, inplace=True)"
   ]
  },
  {
   "cell_type": "code",
   "execution_count": 26,
   "metadata": {},
   "outputs": [],
   "source": [
    "df_raw.drop(['CHANNEL1_6M'], axis=1, inplace=True)\n",
    "df_raw.drop(['CHANNEL2_6M'], axis=1, inplace=True)\n",
    "df_raw.drop(['CHANNEL3_6M'], axis=1, inplace=True)\n",
    "df_raw.drop(['CHANNEL4_6M'], axis=1, inplace=True)\n",
    "df_raw.drop(['CHANNEL5_6M'], axis=1, inplace=True)\n",
    "df_raw.drop(['METHOD1_6M'], axis=1, inplace=True)\n",
    "df_raw.drop(['PAYMENTS_6M'], axis=1, inplace=True)"
   ]
  },
  {
   "cell_type": "code",
   "execution_count": 27,
   "metadata": {},
   "outputs": [
    {
     "data": {
      "image/png": "[encoded data removed]",
      "text/plain": [
       "<Figure size 432x288 with 2 Axes>"
      ]
     },
     "metadata": {
      "needs_background": "light"
     },
     "output_type": "display_data"
    }
   ],
   "source": [
    "# Now Looking at the correlation of features\n",
    "corr = df_raw.corr()\n",
    "sns.heatmap(corr)\n",
    "plt.show()"
   ]
  },
  {
   "cell_type": "code",
   "execution_count": null,
   "metadata": {},
   "outputs": [],
   "source": []
  },
  {
   "cell_type": "markdown",
   "metadata": {},
   "source": [
    "# Build Model"
   ]
  },
  {
   "cell_type": "code",
   "execution_count": 28,
   "metadata": {},
   "outputs": [],
   "source": [
    "# build train & test dataset\n",
    "trainSize = int(0.70*(X.shape[0]))\n",
    "X_train, X_test, y_train, y_test = train_test_split(X, y, train_size=trainSize, random_state=24)"
   ]
  },
  {
   "cell_type": "code",
   "execution_count": 29,
   "metadata": {},
   "outputs": [
    {
     "name": "stderr",
     "output_type": "stream",
     "text": [
      "C:\\ProgramData\\Anaconda3\\lib\\site-packages\\sklearn\\ensemble\\forest.py:245: FutureWarning: The default value of n_estimators will change from 10 in version 0.20 to 100 in 0.22.\n",
      "  \"10 in version 0.20 to 100 in 0.22.\", FutureWarning)\n",
      "C:\\ProgramData\\Anaconda3\\lib\\site-packages\\ipykernel_launcher.py:9: DataConversionWarning: A column-vector y was passed when a 1d array was expected. Please change the shape of y to (n_samples,), for example using ravel().\n",
      "  if __name__ == '__main__':\n"
     ]
    },
    {
     "name": "stdout",
     "output_type": "stream",
     "text": [
      "Train Dataset score 0.7647518266565886\n",
      "Test Dataset score 0.7580834803057025\n"
     ]
    },
    {
     "name": "stderr",
     "output_type": "stream",
     "text": [
      "C:\\ProgramData\\Anaconda3\\lib\\site-packages\\sklearn\\model_selection\\_validation.py:516: DataConversionWarning: A column-vector y was passed when a 1d array was expected. Please change the shape of y to (n_samples,), for example using ravel().\n",
      "  estimator.fit(X_train, y_train, **fit_params)\n",
      "C:\\ProgramData\\Anaconda3\\lib\\site-packages\\sklearn\\model_selection\\_validation.py:516: DataConversionWarning: A column-vector y was passed when a 1d array was expected. Please change the shape of y to (n_samples,), for example using ravel().\n",
      "  estimator.fit(X_train, y_train, **fit_params)\n",
      "C:\\ProgramData\\Anaconda3\\lib\\site-packages\\sklearn\\model_selection\\_validation.py:516: DataConversionWarning: A column-vector y was passed when a 1d array was expected. Please change the shape of y to (n_samples,), for example using ravel().\n",
      "  estimator.fit(X_train, y_train, **fit_params)\n",
      "C:\\ProgramData\\Anaconda3\\lib\\site-packages\\sklearn\\model_selection\\_validation.py:516: DataConversionWarning: A column-vector y was passed when a 1d array was expected. Please change the shape of y to (n_samples,), for example using ravel().\n",
      "  estimator.fit(X_train, y_train, **fit_params)\n"
     ]
    },
    {
     "data": {
      "text/plain": [
       "array([0.76327723, 0.76156404, 0.76708325, 0.75881879])"
      ]
     },
     "execution_count": 29,
     "metadata": {},
     "output_type": "execute_result"
    }
   ],
   "source": [
    "# use Random Forest model\n",
    "rfc = ensemble.RandomForestClassifier(\n",
    "    min_samples_split=2,\n",
    "    min_samples_leaf =1,\n",
    "    max_features='auto',\n",
    "    max_depth=5)\n",
    "\n",
    "#X_train = pd.get_dummies(X_train)\n",
    "rfc.fit(X_train, y_train)\n",
    "print('Train Dataset score {}'.format(rfc.score(X_train, y_train)))\n",
    "#X_test = pd.get_dummies(X_test)\n",
    "print('Test Dataset score {}'.format(rfc.score(X_test, y_test)))\n",
    "cross_val_score(rfc, X_train, y_train, cv=4)"
   ]
  },
  {
   "cell_type": "code",
   "execution_count": 30,
   "metadata": {},
   "outputs": [
    {
     "name": "stdout",
     "output_type": "stream",
     "text": [
      "[[15107  4653]\n",
      " [ 4684 15246]]\n",
      "accuracy = 0.7647518266565886\n",
      "recall = 0.49771027575527954\n",
      "typeI error = 0.23383084577114432\n",
      "typeII error = 0.23667323530897888\n"
     ]
    }
   ],
   "source": [
    "out_mat = confusion_matrix(y_train, rfc.predict(X_train))\n",
    "print(out_mat)\n",
    "TP = out_mat[0, 0]\n",
    "TN = out_mat[1, 1]\n",
    "FP = out_mat[0, 1]\n",
    "FN = out_mat[1, 0]\n",
    "accuracy = (TP + TN) / (TP + FP + FN + TN)\n",
    "recall = TP / (TP + TN)\n",
    "sensitivity = TP / (TP + FN)\n",
    "specificity = TN / (FP + TN)\n",
    "\n",
    "print('accuracy = {}'.format(accuracy))\n",
    "print('recall = {}'.format(recall))\n",
    "print('typeI error = {}'.format(1 - specificity))\n",
    "print('typeII error = {}'.format(1 - sensitivity))"
   ]
  },
  {
   "cell_type": "markdown",
   "metadata": {},
   "source": [
    "# Conclusion: \n",
    "\n",
    "It is observed that the model predicts 76% accuracy whether the customers will make service calls or not\n",
    "comparing the actual data. It is under control whether the model overfits. \n",
    "\n",
    "The accuracy scores are pretty close to 0.76 for multiple subsets of training dataset. While the accuracy\n",
    "score for testing dataset is near 0.75. \n",
    "\n",
    "When looking into confusion_matrix, there are considerable events are correctly classified as true positive \n",
    "or true negative. \n",
    "\n",
    "The type I error, i.e. false positive rate, is 0.236. The type II error, i.e. false negative error, is 0.229\n",
    "\n"
   ]
  },
  {
   "cell_type": "markdown",
   "metadata": {},
   "source": [
    "# Future Development\n",
    "\n",
    "The low accuracy shows the model has high bias. To reduce the high bias, we can try\n",
    "\n",
    "    1) more feature engineer\n",
    "\n",
    "    2) different models\n",
    "    \n",
    "A lot of ways to improve the prediction."
   ]
  },
  {
   "cell_type": "code",
   "execution_count": null,
   "metadata": {},
   "outputs": [],
   "source": []
  }
 ],
 "metadata": {
  "kernelspec": {
   "display_name": "Python 3",
   "language": "python",
   "name": "python3"
  },
  "language_info": {
   "codemirror_mode": {
    "name": "ipython",
    "version": 3
   },
   "file_extension": ".py",
   "mimetype": "text/x-python",
   "name": "python",
   "nbconvert_exporter": "python",
   "pygments_lexer": "ipython3",
   "version": "3.6.7"
  }
 },
 "nbformat": 4,
 "nbformat_minor": 2
}
